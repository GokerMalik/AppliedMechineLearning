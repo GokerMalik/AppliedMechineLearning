{
 "cells": [
  {
   "cell_type": "markdown",
   "metadata": {},
   "source": [
    "## Pipeline: Tune hyperparameters\n",
    "\n",
    "Using the Titanic dataset from [this](https://www.kaggle.com/c/titanic/overview) Kaggle competition.\n",
    "\n",
    "In this section, we will tune the hyperparameters for the basic model we fit in the last section."
   ]
  },
  {
   "cell_type": "markdown",
   "metadata": {},
   "source": [
    "### Read in data\n",
    "\n",
    "![Tune Hyperparameters](../img/tune_hyperparameters.png)"
   ]
  },
  {
   "cell_type": "code",
   "execution_count": 1,
   "metadata": {},
   "outputs": [],
   "source": [
    "import pandas as pd\n",
    "from sklearn.ensemble import RandomForestClassifier\n",
    "from sklearn.model_selection import GridSearchCV\n",
    "\n",
    "tr_features = pd.read_csv('train_features.csv', header = None)\n",
    "tr_labels = pd.read_csv('train_labels.csv', header=None)"
   ]
  },
  {
   "cell_type": "markdown",
   "metadata": {},
   "source": [
    "### Hyperparameter tuning\n",
    "\n",
    "![Hyperparameters](../img/hyperparameters.png)"
   ]
  },
  {
   "cell_type": "code",
   "execution_count": 2,
   "metadata": {},
   "outputs": [],
   "source": [
    "#this will print the average and the standard deviation of accuracy score for all the combinations of hyper parameters \n",
    "def print_results(results):\n",
    "    print('BEST PARAMS: {}\\n'.format(results.best_params_))\n",
    "\n",
    "    means = results.cv_results_['mean_test_score']\n",
    "    stds = results.cv_results_['std_test_score']\n",
    "    for mean, std, params in zip(means, stds, results.cv_results_['params']):\n",
    "        print('{} (+/-{}) for {}'.format(round(mean, 3), round(std * 2, 3), params))"
   ]
  },
  {
   "cell_type": "code",
   "execution_count": 5,
   "metadata": {},
   "outputs": [
    {
     "name": "stdout",
     "output_type": "stream",
     "text": [
      "BEST PARAMS: {'max_depth': 10, 'n_estimators': 100}\n",
      "\n",
      "0.79 (+/-0.099) for {'max_depth': 2, 'n_estimators': 5}\n",
      "0.788 (+/-0.113) for {'max_depth': 2, 'n_estimators': 50}\n",
      "0.802 (+/-0.11) for {'max_depth': 2, 'n_estimators': 100}\n",
      "0.807 (+/-0.047) for {'max_depth': 10, 'n_estimators': 5}\n",
      "0.824 (+/-0.071) for {'max_depth': 10, 'n_estimators': 50}\n",
      "0.826 (+/-0.045) for {'max_depth': 10, 'n_estimators': 100}\n",
      "0.796 (+/-0.052) for {'max_depth': 20, 'n_estimators': 5}\n",
      "0.8 (+/-0.02) for {'max_depth': 20, 'n_estimators': 50}\n",
      "0.809 (+/-0.032) for {'max_depth': 20, 'n_estimators': 100}\n",
      "0.813 (+/-0.051) for {'max_depth': None, 'n_estimators': 5}\n",
      "0.813 (+/-0.046) for {'max_depth': None, 'n_estimators': 50}\n",
      "0.813 (+/-0.033) for {'max_depth': None, 'n_estimators': 100}\n"
     ]
    }
   ],
   "source": [
    "rf = RandomForestClassifier()\n",
    "parameters = {\n",
    "    #number of estimator means the number of individual desicion trees.\n",
    "    'n_estimators': [5, 50, 100],\n",
    "    #max depth is how deep each decisiontrees go\n",
    "    'max_depth': [2, 10, 20, None]\n",
    "    #in combination, we will have 12 combinations\n",
    "}\n",
    "\n",
    "cv = GridSearchCV(rf, parameters, cv= 5)\n",
    "cv.fit(tr_features, tr_labels.values.ravel())\n",
    "\n",
    "print_results(cv)"
   ]
  },
  {
   "cell_type": "code",
   "execution_count": null,
   "metadata": {},
   "outputs": [],
   "source": []
  }
 ],
 "metadata": {
  "kernelspec": {
   "display_name": "Python 3 (ipykernel)",
   "language": "python",
   "name": "python3"
  },
  "language_info": {
   "codemirror_mode": {
    "name": "ipython",
    "version": 3
   },
   "file_extension": ".py",
   "mimetype": "text/x-python",
   "name": "python",
   "nbconvert_exporter": "python",
   "pygments_lexer": "ipython3",
   "version": "3.9.13"
  }
 },
 "nbformat": 4,
 "nbformat_minor": 2
}
